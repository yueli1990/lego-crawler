{
 "cells": [
  {
   "cell_type": "code",
   "execution_count": 1,
   "id": "a2804ef7",
   "metadata": {},
   "outputs": [],
   "source": [
    "import requests\n",
    "from bs4 import BeautifulSoup\n",
    "import re\n",
    "import pandas as pd"
   ]
  },
  {
   "cell_type": "code",
   "execution_count": 2,
   "id": "7932d4d2",
   "metadata": {},
   "outputs": [],
   "source": [
    "def extractThemeUrls():\n",
    "    url =\"https://www.lego.com/en-us/themes\"\n",
    "    headers = {\"User-Agent\": \"Mozilla/5.0 (Macintosh; Intel Mac OS X 10_14_6) AppleWebKit/537.36 (KHTML, like Gecko) Chrome/101.0.4951.64 Safari/537.36\"}\n",
    "    response = requests.get(url, headers)\n",
    "    soup = BeautifulSoup(response.text)\n",
    "    lis = soup.find(\"ul\",\"CategoryListingPagestyle__List-sc-880qxz-5 bSfYDx\").find_all(\"li\")\n",
    "    urls = [] #get all the themes urls from the theme website\n",
    "    for li in lis:\n",
    "        href = li.find('a').get('href')\n",
    "        href = \"https://www.lego.com\" + href\n",
    "        urls.append(href)\n",
    "    return urls\n"
   ]
  },
  {
   "cell_type": "code",
   "execution_count": 3,
   "id": "97285fca",
   "metadata": {},
   "outputs": [],
   "source": [
    "themeUrls = extractThemeUrls()"
   ]
  },
  {
   "cell_type": "code",
   "execution_count": 4,
   "id": "aade5b02",
   "metadata": {},
   "outputs": [
    {
     "data": {
      "text/plain": [
       "['https://www.lego.com/en-us/themes/architecture',\n",
       " 'https://www.lego.com/en-us/themes/lego-batman-sets',\n",
       " 'https://www.lego.com/en-us/themes/boost',\n",
       " 'https://www.lego.com/en-us/themes/brickheadz',\n",
       " 'https://www.lego.com/en-us/themes/brick-sketches',\n",
       " 'https://www.lego.com/en-us/themes/city',\n",
       " 'https://www.lego.com/en-us/themes/classic',\n",
       " 'https://www.lego.com/en-us/themes/creator-3-in-1',\n",
       " 'https://www.lego.com/en-us/themes/creator-expert',\n",
       " 'https://www.lego.com/en-us/themes/dc',\n",
       " 'https://www.lego.com/en-us/themes/disney',\n",
       " 'https://www.lego.com/en-us/themes/mickey-mouse',\n",
       " 'https://www.lego.com/en-us/themes/lightyear',\n",
       " 'https://www.lego.com/en-us/themes/dots',\n",
       " 'https://www.lego.com/en-us/themes/duplo',\n",
       " 'https://www.lego.com/en-us/themes/friends',\n",
       " 'https://www.lego.com/en-us/themes/disney-frozen-2',\n",
       " 'https://www.lego.com/en-us/themes/harry-potter',\n",
       " 'https://www.lego.com/en-us/themes/ideas',\n",
       " 'https://www.lego.com/en-us/themes/jurassic-world',\n",
       " 'https://www.lego.com/en-us/themes/art',\n",
       " 'https://www.lego.com/en-us/themes/lego-education',\n",
       " 'https://www.lego.com/en-us/themes/lego-originals',\n",
       " 'https://www.lego.com/en-us/themes/super-mario',\n",
       " 'https://www.lego.com/en-us/themes/marvel',\n",
       " 'https://www.lego.com/en-us/themes/mindstorms',\n",
       " 'https://www.lego.com/en-us/themes/minecraft',\n",
       " 'https://www.lego.com/en-us/themes/minifigures',\n",
       " 'https://www.lego.com/en-us/themes/minions',\n",
       " 'https://www.lego.com/en-us/themes/monkie-kid',\n",
       " 'https://www.lego.com/en-us/themes/ninjago',\n",
       " 'https://www.lego.com/en-us/themes/power-functions',\n",
       " 'https://www.lego.com/en-us/themes/powered-up',\n",
       " 'https://www.lego.com/en-us/themes/serious-play',\n",
       " 'https://www.lego.com/en-us/themes/speed-champions',\n",
       " 'https://www.lego.com/en-us/themes/lego-spider-man',\n",
       " 'https://www.lego.com/en-us/themes/star-wars',\n",
       " 'https://www.lego.com/en-us/themes/stranger-things',\n",
       " 'https://www.lego.com/en-us/themes/technic',\n",
       " 'https://www.lego.com/en-us/themes/vidiyo',\n",
       " 'https://www.lego.com/en-us/themes/xtra']"
      ]
     },
     "execution_count": 4,
     "metadata": {},
     "output_type": "execute_result"
    }
   ],
   "source": [
    "themeUrls"
   ]
  },
  {
   "cell_type": "code",
   "execution_count": null,
   "id": "e325bd61",
   "metadata": {},
   "outputs": [],
   "source": []
  },
  {
   "cell_type": "code",
   "execution_count": 5,
   "id": "2b23188e",
   "metadata": {},
   "outputs": [],
   "source": [
    "def extractAllPages(themeUrls):\n",
    "    pageList = []\n",
    "    for eachTheme in themeUrls:\n",
    "        headers = {\"User-Agent\": \"Mozilla/5.0 (Macintosh; Intel Mac OS X 10_14_6) AppleWebKit/537.36 (KHTML, like Gecko) Chrome/101.0.4951.64 Safari/537.36\"}\n",
    "        response = requests.get(eachTheme, headers)\n",
    "        soup = BeautifulSoup(response.text)\n",
    "        allPageLink = []\n",
    "        total = re.search('\\\"total\\\":(.+?),', response.text).group(1)\n",
    "        count = re.search('\\\"perPage\\\\\\\\\\\":(.+?),', response.text).group(1)\n",
    "        total_page = int(int(total) / int(count)) + 1\n",
    "        if total_page == 1:\n",
    "            allPageLink.append(eachTheme)\n",
    "            pageList.append(allPageLink)\n",
    "        elif total_page > 1:   \n",
    "            allPageLink.append(eachTheme)\n",
    "            for page in range(2,total_page+1):\n",
    "                newlink = (eachTheme+ \"?page=\" + \"{}\").format(page)\n",
    "                allPageLink.append(newlink)\n",
    "            pageList.append(allPageLink)\n",
    "    return pageList"
   ]
  },
  {
   "cell_type": "code",
   "execution_count": 6,
   "id": "1d7e45f3",
   "metadata": {
    "scrolled": true
   },
   "outputs": [
    {
     "data": {
      "text/plain": [
       "[['https://www.lego.com/en-us/themes/architecture'],\n",
       " ['https://www.lego.com/en-us/themes/lego-batman-sets'],\n",
       " ['https://www.lego.com/en-us/themes/boost'],\n",
       " ['https://www.lego.com/en-us/themes/brickheadz',\n",
       "  'https://www.lego.com/en-us/themes/brickheadz?page=2'],\n",
       " ['https://www.lego.com/en-us/themes/brick-sketches'],\n",
       " ['https://www.lego.com/en-us/themes/city',\n",
       "  'https://www.lego.com/en-us/themes/city?page=2',\n",
       "  'https://www.lego.com/en-us/themes/city?page=3',\n",
       "  'https://www.lego.com/en-us/themes/city?page=4',\n",
       "  'https://www.lego.com/en-us/themes/city?page=5'],\n",
       " ['https://www.lego.com/en-us/themes/classic',\n",
       "  'https://www.lego.com/en-us/themes/classic?page=2'],\n",
       " ['https://www.lego.com/en-us/themes/creator-3-in-1',\n",
       "  'https://www.lego.com/en-us/themes/creator-3-in-1?page=2'],\n",
       " ['https://www.lego.com/en-us/themes/creator-expert',\n",
       "  'https://www.lego.com/en-us/themes/creator-expert?page=2',\n",
       "  'https://www.lego.com/en-us/themes/creator-expert?page=3'],\n",
       " ['https://www.lego.com/en-us/themes/dc',\n",
       "  'https://www.lego.com/en-us/themes/dc?page=2'],\n",
       " ['https://www.lego.com/en-us/themes/disney',\n",
       "  'https://www.lego.com/en-us/themes/disney?page=2',\n",
       "  'https://www.lego.com/en-us/themes/disney?page=3',\n",
       "  'https://www.lego.com/en-us/themes/disney?page=4'],\n",
       " ['https://www.lego.com/en-us/themes/mickey-mouse'],\n",
       " ['https://www.lego.com/en-us/themes/lightyear'],\n",
       " ['https://www.lego.com/en-us/themes/dots',\n",
       "  'https://www.lego.com/en-us/themes/dots?page=2',\n",
       "  'https://www.lego.com/en-us/themes/dots?page=3'],\n",
       " ['https://www.lego.com/en-us/themes/duplo',\n",
       "  'https://www.lego.com/en-us/themes/duplo?page=2',\n",
       "  'https://www.lego.com/en-us/themes/duplo?page=3',\n",
       "  'https://www.lego.com/en-us/themes/duplo?page=4'],\n",
       " ['https://www.lego.com/en-us/themes/friends',\n",
       "  'https://www.lego.com/en-us/themes/friends?page=2',\n",
       "  'https://www.lego.com/en-us/themes/friends?page=3'],\n",
       " ['https://www.lego.com/en-us/themes/disney-frozen-2'],\n",
       " ['https://www.lego.com/en-us/themes/harry-potter',\n",
       "  'https://www.lego.com/en-us/themes/harry-potter?page=2',\n",
       "  'https://www.lego.com/en-us/themes/harry-potter?page=3'],\n",
       " ['https://www.lego.com/en-us/themes/ideas'],\n",
       " ['https://www.lego.com/en-us/themes/jurassic-world'],\n",
       " ['https://www.lego.com/en-us/themes/art'],\n",
       " ['https://www.lego.com/en-us/themes/lego-education'],\n",
       " ['https://www.lego.com/en-us/themes/lego-originals'],\n",
       " ['https://www.lego.com/en-us/themes/super-mario',\n",
       "  'https://www.lego.com/en-us/themes/super-mario?page=2'],\n",
       " ['https://www.lego.com/en-us/themes/marvel',\n",
       "  'https://www.lego.com/en-us/themes/marvel?page=2',\n",
       "  'https://www.lego.com/en-us/themes/marvel?page=3',\n",
       "  'https://www.lego.com/en-us/themes/marvel?page=4'],\n",
       " ['https://www.lego.com/en-us/themes/mindstorms'],\n",
       " ['https://www.lego.com/en-us/themes/minecraft',\n",
       "  'https://www.lego.com/en-us/themes/minecraft?page=2'],\n",
       " ['https://www.lego.com/en-us/themes/minifigures',\n",
       "  'https://www.lego.com/en-us/themes/minifigures?page=2'],\n",
       " ['https://www.lego.com/en-us/themes/minions'],\n",
       " ['https://www.lego.com/en-us/themes/monkie-kid',\n",
       "  'https://www.lego.com/en-us/themes/monkie-kid?page=2'],\n",
       " ['https://www.lego.com/en-us/themes/ninjago',\n",
       "  'https://www.lego.com/en-us/themes/ninjago?page=2',\n",
       "  'https://www.lego.com/en-us/themes/ninjago?page=3'],\n",
       " ['https://www.lego.com/en-us/themes/power-functions'],\n",
       " ['https://www.lego.com/en-us/themes/powered-up',\n",
       "  'https://www.lego.com/en-us/themes/powered-up?page=2'],\n",
       " ['https://www.lego.com/en-us/themes/serious-play'],\n",
       " ['https://www.lego.com/en-us/themes/speed-champions'],\n",
       " ['https://www.lego.com/en-us/themes/lego-spider-man',\n",
       "  'https://www.lego.com/en-us/themes/lego-spider-man?page=2'],\n",
       " ['https://www.lego.com/en-us/themes/star-wars',\n",
       "  'https://www.lego.com/en-us/themes/star-wars?page=2',\n",
       "  'https://www.lego.com/en-us/themes/star-wars?page=3',\n",
       "  'https://www.lego.com/en-us/themes/star-wars?page=4',\n",
       "  'https://www.lego.com/en-us/themes/star-wars?page=5'],\n",
       " ['https://www.lego.com/en-us/themes/stranger-things'],\n",
       " ['https://www.lego.com/en-us/themes/technic',\n",
       "  'https://www.lego.com/en-us/themes/technic?page=2',\n",
       "  'https://www.lego.com/en-us/themes/technic?page=3'],\n",
       " ['https://www.lego.com/en-us/themes/vidiyo'],\n",
       " ['https://www.lego.com/en-us/themes/xtra']]"
      ]
     },
     "execution_count": 6,
     "metadata": {},
     "output_type": "execute_result"
    }
   ],
   "source": [
    "# themeUrls = ['https://www.lego.com/en-us/themes/architecture','https://www.lego.com/en-us/themes/city']\n",
    "allItemPages = extractAllPages(themeUrls)\n",
    "allItemPages"
   ]
  },
  {
   "cell_type": "code",
   "execution_count": 7,
   "id": "15163fa5",
   "metadata": {},
   "outputs": [
    {
     "data": {
      "text/plain": [
       "['https://www.lego.com/en-us/themes/architecture',\n",
       " 'https://www.lego.com/en-us/themes/lego-batman-sets',\n",
       " 'https://www.lego.com/en-us/themes/boost',\n",
       " 'https://www.lego.com/en-us/themes/brickheadz',\n",
       " 'https://www.lego.com/en-us/themes/brickheadz?page=2',\n",
       " 'https://www.lego.com/en-us/themes/brick-sketches',\n",
       " 'https://www.lego.com/en-us/themes/city',\n",
       " 'https://www.lego.com/en-us/themes/city?page=2',\n",
       " 'https://www.lego.com/en-us/themes/city?page=3',\n",
       " 'https://www.lego.com/en-us/themes/city?page=4',\n",
       " 'https://www.lego.com/en-us/themes/city?page=5',\n",
       " 'https://www.lego.com/en-us/themes/classic',\n",
       " 'https://www.lego.com/en-us/themes/classic?page=2',\n",
       " 'https://www.lego.com/en-us/themes/creator-3-in-1',\n",
       " 'https://www.lego.com/en-us/themes/creator-3-in-1?page=2',\n",
       " 'https://www.lego.com/en-us/themes/creator-expert',\n",
       " 'https://www.lego.com/en-us/themes/creator-expert?page=2',\n",
       " 'https://www.lego.com/en-us/themes/creator-expert?page=3',\n",
       " 'https://www.lego.com/en-us/themes/dc',\n",
       " 'https://www.lego.com/en-us/themes/dc?page=2',\n",
       " 'https://www.lego.com/en-us/themes/disney',\n",
       " 'https://www.lego.com/en-us/themes/disney?page=2',\n",
       " 'https://www.lego.com/en-us/themes/disney?page=3',\n",
       " 'https://www.lego.com/en-us/themes/disney?page=4',\n",
       " 'https://www.lego.com/en-us/themes/mickey-mouse',\n",
       " 'https://www.lego.com/en-us/themes/lightyear',\n",
       " 'https://www.lego.com/en-us/themes/dots',\n",
       " 'https://www.lego.com/en-us/themes/dots?page=2',\n",
       " 'https://www.lego.com/en-us/themes/dots?page=3',\n",
       " 'https://www.lego.com/en-us/themes/duplo',\n",
       " 'https://www.lego.com/en-us/themes/duplo?page=2',\n",
       " 'https://www.lego.com/en-us/themes/duplo?page=3',\n",
       " 'https://www.lego.com/en-us/themes/duplo?page=4',\n",
       " 'https://www.lego.com/en-us/themes/friends',\n",
       " 'https://www.lego.com/en-us/themes/friends?page=2',\n",
       " 'https://www.lego.com/en-us/themes/friends?page=3',\n",
       " 'https://www.lego.com/en-us/themes/disney-frozen-2',\n",
       " 'https://www.lego.com/en-us/themes/harry-potter',\n",
       " 'https://www.lego.com/en-us/themes/harry-potter?page=2',\n",
       " 'https://www.lego.com/en-us/themes/harry-potter?page=3',\n",
       " 'https://www.lego.com/en-us/themes/ideas',\n",
       " 'https://www.lego.com/en-us/themes/jurassic-world',\n",
       " 'https://www.lego.com/en-us/themes/art',\n",
       " 'https://www.lego.com/en-us/themes/lego-education',\n",
       " 'https://www.lego.com/en-us/themes/lego-originals',\n",
       " 'https://www.lego.com/en-us/themes/super-mario',\n",
       " 'https://www.lego.com/en-us/themes/super-mario?page=2',\n",
       " 'https://www.lego.com/en-us/themes/marvel',\n",
       " 'https://www.lego.com/en-us/themes/marvel?page=2',\n",
       " 'https://www.lego.com/en-us/themes/marvel?page=3',\n",
       " 'https://www.lego.com/en-us/themes/marvel?page=4',\n",
       " 'https://www.lego.com/en-us/themes/mindstorms',\n",
       " 'https://www.lego.com/en-us/themes/minecraft',\n",
       " 'https://www.lego.com/en-us/themes/minecraft?page=2',\n",
       " 'https://www.lego.com/en-us/themes/minifigures',\n",
       " 'https://www.lego.com/en-us/themes/minifigures?page=2',\n",
       " 'https://www.lego.com/en-us/themes/minions',\n",
       " 'https://www.lego.com/en-us/themes/monkie-kid',\n",
       " 'https://www.lego.com/en-us/themes/monkie-kid?page=2',\n",
       " 'https://www.lego.com/en-us/themes/ninjago',\n",
       " 'https://www.lego.com/en-us/themes/ninjago?page=2',\n",
       " 'https://www.lego.com/en-us/themes/ninjago?page=3',\n",
       " 'https://www.lego.com/en-us/themes/power-functions',\n",
       " 'https://www.lego.com/en-us/themes/powered-up',\n",
       " 'https://www.lego.com/en-us/themes/powered-up?page=2',\n",
       " 'https://www.lego.com/en-us/themes/serious-play',\n",
       " 'https://www.lego.com/en-us/themes/speed-champions',\n",
       " 'https://www.lego.com/en-us/themes/lego-spider-man',\n",
       " 'https://www.lego.com/en-us/themes/lego-spider-man?page=2',\n",
       " 'https://www.lego.com/en-us/themes/star-wars',\n",
       " 'https://www.lego.com/en-us/themes/star-wars?page=2',\n",
       " 'https://www.lego.com/en-us/themes/star-wars?page=3',\n",
       " 'https://www.lego.com/en-us/themes/star-wars?page=4',\n",
       " 'https://www.lego.com/en-us/themes/star-wars?page=5',\n",
       " 'https://www.lego.com/en-us/themes/stranger-things',\n",
       " 'https://www.lego.com/en-us/themes/technic',\n",
       " 'https://www.lego.com/en-us/themes/technic?page=2',\n",
       " 'https://www.lego.com/en-us/themes/technic?page=3',\n",
       " 'https://www.lego.com/en-us/themes/vidiyo',\n",
       " 'https://www.lego.com/en-us/themes/xtra']"
      ]
     },
     "execution_count": 7,
     "metadata": {},
     "output_type": "execute_result"
    }
   ],
   "source": [
    "link_list = []\n",
    "for ele in allItemPages:\n",
    "    for page in ele:\n",
    "        link_list.append(page)\n",
    "link_list"
   ]
  },
  {
   "cell_type": "code",
   "execution_count": 8,
   "id": "4a761a53",
   "metadata": {},
   "outputs": [],
   "source": [
    "# link_list1 = [\"https://www.lego.com/en-us/themes/powered-up?page=2\"]"
   ]
  },
  {
   "cell_type": "code",
   "execution_count": 9,
   "id": "896e2d22",
   "metadata": {},
   "outputs": [],
   "source": [
    "def extractItemPage(link_list):\n",
    "    itemList = []\n",
    "#     for eachTheme in allItemPages:\n",
    "    for eachPage in link_list:\n",
    "        headers = {\"User-Agent\": \"Mozilla/5.0 (Macintosh; Intel Mac OS X 10_14_6) AppleWebKit/537.36 (KHTML, like Gecko) Chrome/101.0.4951.64 Safari/537.36\"}\n",
    "        response = requests.get(eachPage, headers)\n",
    "        soup = BeautifulSoup(response.text)\n",
    "        itemLinks = []\n",
    "        if soup.find(\"ul\", \"ProductGridstyles__Grid-lc2zkx-0 gxucff\"):\n",
    "            itemLinks = soup.find(\"ul\", \"ProductGridstyles__Grid-lc2zkx-0 gxucff\").find_all(\"li\")\n",
    "\n",
    "        for eachItem in itemLinks:\n",
    "            if eachItem.find(\"div\", \"ProductLeafSharedstyles__ImageRow-sc-1epu2xb-3 ProductLeafListingstyles__ImageRow-sc-19n1otk-5 jAJcWS\"):\n",
    "                item = eachItem.find(\"div\", \"ProductLeafSharedstyles__ImageRow-sc-1epu2xb-3 ProductLeafListingstyles__ImageRow-sc-19n1otk-5 jAJcWS\").find(\"a\").get(\"href\")\n",
    "                item = \"https://www.lego.com\" + item\n",
    "                itemList.append(item)\n",
    "    return itemList\n",
    "\n"
   ]
  },
  {
   "cell_type": "code",
   "execution_count": 10,
   "id": "a8289965",
   "metadata": {},
   "outputs": [],
   "source": [
    "links = extractItemPage(link_list)"
   ]
  },
  {
   "cell_type": "code",
   "execution_count": 12,
   "id": "94ae4520",
   "metadata": {},
   "outputs": [],
   "source": [
    "df = pd.DataFrame(links, columns=[\"ItemLinks\"])"
   ]
  },
  {
   "cell_type": "code",
   "execution_count": 13,
   "id": "e3d24ca9",
   "metadata": {},
   "outputs": [],
   "source": [
    "df.to_csv(\"/Users/guizha/Desktop/items/ItemLinks.csv\")"
   ]
  },
  {
   "cell_type": "code",
   "execution_count": 16,
   "id": "cb278c93",
   "metadata": {},
   "outputs": [],
   "source": [
    "def extractOthers():\n",
    "    othersList = []\n",
    "    for page in range(1,19):\n",
    "        url = (\"https://www.lego.com/en-us/other?page={}&filters.i0.key=categories.id&filters.i0.values.i0=9fe455ac-be16-4348-81fe-ddd8261327c1\").format(page)\n",
    "        response = requests.get(url)\n",
    "        soup = BeautifulSoup(response.text)\n",
    "        if soup.find(\"ul\", \"ProductGridstyles__Grid-lc2zkx-0 gxucff\"):\n",
    "            itemLinks = soup.find(\"ul\", \"ProductGridstyles__Grid-lc2zkx-0 gxucff\").find_all(\"li\")\n",
    "\n",
    "        for eachItem in itemLinks:\n",
    "            if eachItem.find(\"div\", \"ProductLeafSharedstyles__ImageRow-sc-1epu2xb-3 ProductLeafListingstyles__ImageRow-sc-19n1otk-5 jAJcWS\"):\n",
    "                item = eachItem.find(\"div\", \"ProductLeafSharedstyles__ImageRow-sc-1epu2xb-3 ProductLeafListingstyles__ImageRow-sc-19n1otk-5 jAJcWS\").find(\"a\").get(\"href\")\n",
    "                item = \"https://www.lego.com\" + item\n",
    "                othersList.append(item)\n",
    "    return othersList"
   ]
  },
  {
   "cell_type": "code",
   "execution_count": 17,
   "id": "c27aec79",
   "metadata": {},
   "outputs": [],
   "source": [
    "others = extractOthers()"
   ]
  },
  {
   "cell_type": "code",
   "execution_count": 19,
   "id": "ee8c1a61",
   "metadata": {},
   "outputs": [],
   "source": [
    "df = pd.DataFrame(others, columns=[\"otherItems\"])"
   ]
  },
  {
   "cell_type": "code",
   "execution_count": 20,
   "id": "884e9dbc",
   "metadata": {},
   "outputs": [],
   "source": []
  },
  {
   "cell_type": "code",
   "execution_count": null,
   "id": "148e5f95",
   "metadata": {},
   "outputs": [],
   "source": []
  }
 ],
 "metadata": {
  "kernelspec": {
   "display_name": "Python 3",
   "language": "python",
   "name": "python3"
  },
  "language_info": {
   "codemirror_mode": {
    "name": "ipython",
    "version": 3
   },
   "file_extension": ".py",
   "mimetype": "text/x-python",
   "name": "python",
   "nbconvert_exporter": "python",
   "pygments_lexer": "ipython3",
   "version": "3.8.8"
  }
 },
 "nbformat": 4,
 "nbformat_minor": 5
}
